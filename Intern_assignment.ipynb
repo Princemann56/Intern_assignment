{
  "nbformat": 4,
  "nbformat_minor": 0,
  "metadata": {
    "colab": {
      "provenance": []
    },
    "kernelspec": {
      "name": "python3",
      "display_name": "Python 3"
    },
    "language_info": {
      "name": "python"
    }
  },
  "cells": [
    {
      "cell_type": "code",
      "execution_count": 1,
      "metadata": {
        "colab": {
          "base_uri": "https://localhost:8080/"
        },
        "id": "IxaYpx6PblOd",
        "outputId": "e7da1b93-7c4f-444d-d647-4b01ddf38c35"
      },
      "outputs": [
        {
          "output_type": "execute_result",
          "data": {
            "text/plain": [
              "(   LYLTY_CARD_NBR               LIFESTAGE PREMIUM_CUSTOMER\n",
              " 0            1000   YOUNG SINGLES/COUPLES          Premium\n",
              " 1            1002   YOUNG SINGLES/COUPLES       Mainstream\n",
              " 2            1003          YOUNG FAMILIES           Budget\n",
              " 3            1004   OLDER SINGLES/COUPLES       Mainstream\n",
              " 4            1005  MIDAGE SINGLES/COUPLES       Mainstream,\n",
              "     DATE  STORE_NBR  LYLTY_CARD_NBR  TXN_ID  PROD_NBR  \\\n",
              " 0  43390          1            1000       1         5   \n",
              " 1  43599          1            1307     348        66   \n",
              " 2  43605          1            1343     383        61   \n",
              " 3  43329          2            2373     974        69   \n",
              " 4  43330          2            2426    1038       108   \n",
              " \n",
              "                                   PROD_NAME  PROD_QTY  TOT_SALES  \n",
              " 0    Natural Chip        Compny SeaSalt175g         2        6.0  \n",
              " 1                  CCs Nacho Cheese    175g         3        6.3  \n",
              " 2    Smiths Crinkle Cut  Chips Chicken 170g         2        2.9  \n",
              " 3    Smiths Chip Thinly  S/Cream&Onion 175g         5       15.0  \n",
              " 4  Kettle Tortilla ChpsHny&Jlpno Chili 150g         3       13.8  )"
            ]
          },
          "metadata": {},
          "execution_count": 1
        }
      ],
      "source": [
        "import pandas as pd\n",
        "\n",
        "# Load the datasets\n",
        "purchase_behaviour_path = \"/content/purchase_behaviour.csv\"\n",
        "transaction_data_path = \"/content/transaction_data.csv\"\n",
        "\n",
        "purchase_behaviour_df = pd.read_csv(purchase_behaviour_path)\n",
        "transaction_data_df = pd.read_csv(transaction_data_path)\n",
        "\n",
        "# Display first few rows of each dataset\n",
        "purchase_behaviour_df.head(), transaction_data_df.head()\n"
      ]
    },
    {
      "cell_type": "code",
      "source": [
        "# Step 1: Identify the Top 3 Most Profitable Products\n",
        "\n",
        "# Aggregate total sales per product\n",
        "top_products = (\n",
        "    transaction_data_df.groupby([\"PROD_NBR\", \"PROD_NAME\"])[\"TOT_SALES\"]\n",
        "    .sum()\n",
        "    .reset_index()\n",
        "    .sort_values(by=\"TOT_SALES\", ascending=False)\n",
        ")\n",
        "\n",
        "# Extract top 3 products\n",
        "top_3_products = top_products.head(3)\n",
        "\n",
        "# Step 2: Analyze Most Loyal Customers\n",
        "\n",
        "# Define loyalty as total purchase frequency\n",
        "loyal_customers = (\n",
        "    transaction_data_df.groupby(\"LYLTY_CARD_NBR\")[\"TXN_ID\"]\n",
        "    .count()\n",
        "    .reset_index()\n",
        "    .rename(columns={\"TXN_ID\": \"PURCHASE_COUNT\"})\n",
        "    .sort_values(by=\"PURCHASE_COUNT\", ascending=False)\n",
        ")\n",
        "\n",
        "# Merge loyalty data with customer demographics\n",
        "loyal_customers_data = loyal_customers.merge(purchase_behaviour_df, on=\"LYLTY_CARD_NBR\")\n",
        "\n",
        "# Identify key characteristics of most loyal customers\n",
        "loyal_customer_groups = (\n",
        "    loyal_customers_data.groupby([\"LIFESTAGE\", \"PREMIUM_CUSTOMER\"])[\"PURCHASE_COUNT\"]\n",
        "    .sum()\n",
        "    .reset_index()\n",
        "    .sort_values(by=\"PURCHASE_COUNT\", ascending=False)\n",
        ")\n",
        "\n",
        "print(\"Top 3 Most Profitable Products:\")\n",
        "print(top_3_products)\n",
        "\n",
        "print(\"\\nLoyal Customer Characteristics:\")\n",
        "print(loyal_customer_groups)\n"
      ],
      "metadata": {
        "colab": {
          "base_uri": "https://localhost:8080/"
        },
        "id": "cnmW7Pxdc1Gi",
        "outputId": "5c5ce8ed-c543-4c09-a1d7-c7f2a8215cf8"
      },
      "execution_count": 3,
      "outputs": [
        {
          "output_type": "stream",
          "name": "stdout",
          "text": [
            "Top 3 Most Profitable Products:\n",
            "    PROD_NBR                                 PROD_NAME  TOT_SALES\n",
            "3          4          Dorito Corn Chp     Supreme 380g    40352.0\n",
            "13        14    Smiths Crnkle Chip  Orgnl Big Bag 380g    36367.6\n",
            "15        16  Smiths Crinkle Chips Salt & Vinegar 330g    34804.2\n",
            "\n",
            "Loyal Customer Characteristics:\n",
            "                 LIFESTAGE PREMIUM_CUSTOMER  PURCHASE_COUNT\n",
            "6           OLDER FAMILIES           Budget           23160\n",
            "13                RETIREES       Mainstream           21466\n",
            "19   YOUNG SINGLES/COUPLES       Mainstream           20854\n",
            "15          YOUNG FAMILIES           Budget           19122\n",
            "9    OLDER SINGLES/COUPLES           Budget           18407\n",
            "10   OLDER SINGLES/COUPLES       Mainstream           18318\n",
            "11   OLDER SINGLES/COUPLES          Premium           17754\n",
            "12                RETIREES           Budget           15201\n",
            "7           OLDER FAMILIES       Mainstream           14244\n",
            "14                RETIREES          Premium           13096\n",
            "16          YOUNG FAMILIES       Mainstream           12907\n",
            "1   MIDAGE SINGLES/COUPLES       Mainstream           11874\n",
            "17          YOUNG FAMILIES          Premium           11563\n",
            "8           OLDER FAMILIES          Premium           11192\n",
            "18   YOUNG SINGLES/COUPLES           Budget            9242\n",
            "2   MIDAGE SINGLES/COUPLES          Premium            8216\n",
            "20   YOUNG SINGLES/COUPLES          Premium            6281\n",
            "0   MIDAGE SINGLES/COUPLES           Budget            5020\n",
            "3             NEW FAMILIES           Budget            3005\n",
            "4             NEW FAMILIES       Mainstream            2325\n",
            "5             NEW FAMILIES          Premium            1589\n"
          ]
        }
      ]
    }
  ]
}